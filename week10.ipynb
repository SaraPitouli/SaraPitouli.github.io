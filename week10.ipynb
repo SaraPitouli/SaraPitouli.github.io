{
  "nbformat": 4,
  "nbformat_minor": 0,
  "metadata": {
    "colab": {
      "provenance": [],
      "authorship_tag": "ABX9TyNpO4v64TvB6Sbm44d2vQWM",
      "include_colab_link": true
    },
    "kernelspec": {
      "name": "python3",
      "display_name": "Python 3"
    },
    "language_info": {
      "name": "python"
    }
  },
  "cells": [
    {
      "cell_type": "markdown",
      "metadata": {
        "id": "view-in-github",
        "colab_type": "text"
      },
      "source": [
        "<a href=\"https://colab.research.google.com/github/SaraPitouli/SaraPitouli.github.io/blob/main/week10.ipynb\" target=\"_parent\"><img src=\"https://colab.research.google.com/assets/colab-badge.svg\" alt=\"Open In Colab\"/></a>"
      ]
    },
    {
      "cell_type": "code",
      "execution_count": 1,
      "metadata": {
        "id": "cfGin3vSgxv7"
      },
      "outputs": [],
      "source": [
        "\n",
        "import pandas as pd\n",
        "import numpy as np\n",
        "import matplotlib.pyplot as plt"
      ]
    },
    {
      "cell_type": "code",
      "source": [
        "df = pd.read_csv('ScatterPlot.csv')"
      ],
      "metadata": {
        "id": "iaepgr7rmHZO"
      },
      "execution_count": 3,
      "outputs": []
    },
    {
      "cell_type": "code",
      "source": [
        "from sklearn.linear_model import LinearRegression"
      ],
      "metadata": {
        "id": "P9OwUn7gmcwJ"
      },
      "execution_count": 4,
      "outputs": []
    },
    {
      "cell_type": "code",
      "source": [
        "print(df)"
      ],
      "metadata": {
        "colab": {
          "base_uri": "https://localhost:8080/"
        },
        "id": "ghIOfr68mgI5",
        "outputId": "5cd8bab0-6c57-40f0-cf5b-f4c2bcf844c6"
      },
      "execution_count": 5,
      "outputs": [
        {
          "output_type": "stream",
          "name": "stdout",
          "text": [
            "    Unnamed: 0               Country  mean  1990\n",
            "0            1               Albania  1.04  0.30\n",
            "1            2  United Arab Emirates -0.16  0.68\n",
            "2            3             Argentina  2.64  0.52\n",
            "3            4               Armenia -2.21  0.36\n",
            "4            5             Australia  2.14  0.27\n",
            "..         ...                   ...   ...   ...\n",
            "90         123         United States  1.97  0.33\n",
            "91         124               Vietnam  5.54  0.43\n",
            "92         125          South Africa -0.43  0.61\n",
            "93         126                Zambia -1.19  0.67\n",
            "94         127              Zimbabwe  1.14  0.63\n",
            "\n",
            "[95 rows x 4 columns]\n"
          ]
        }
      ]
    },
    {
      "cell_type": "code",
      "source": [
        "x = df['mean'].values[:, np.newaxis]\n",
        "y = df['1990'].values"
      ],
      "metadata": {
        "id": "unnXqc8gn3Ji"
      },
      "execution_count": 6,
      "outputs": []
    },
    {
      "cell_type": "code",
      "source": [
        "model = LinearRegression()\n",
        "model.fit(x,y)\n"
      ],
      "metadata": {
        "colab": {
          "base_uri": "https://localhost:8080/"
        },
        "id": "9ahC_R6ppyta",
        "outputId": "b501ae21-250e-4501-c83a-4d916dca6975"
      },
      "execution_count": 7,
      "outputs": [
        {
          "output_type": "execute_result",
          "data": {
            "text/plain": [
              "LinearRegression()"
            ]
          },
          "metadata": {},
          "execution_count": 7
        }
      ]
    },
    {
      "cell_type": "code",
      "source": [
        "model.score(x,y)"
      ],
      "metadata": {
        "colab": {
          "base_uri": "https://localhost:8080/"
        },
        "id": "7f-DUOCVp2dH",
        "outputId": "a7ab1cc0-fd8a-47ed-9fc0-b72e09fa6c70"
      },
      "execution_count": 8,
      "outputs": [
        {
          "output_type": "execute_result",
          "data": {
            "text/plain": [
              "0.017363756578543943"
            ]
          },
          "metadata": {},
          "execution_count": 8
        }
      ]
    },
    {
      "cell_type": "code",
      "source": [
        "predictions = model.predict(x)\n",
        "plt.plot(x, predictions, color = '#f4c2c2')\n",
        "plt.title(\"Correlation Between average growth rate of GDP per capita for emerging-market and developing economies over the 1990s and Gender Inequality Index in 1990.\", color= 'black')\n",
        "plt.xlabel(\"Average growth rate of GDP per capita over the 1990s\", color= 'black')\n",
        "plt.ylabel(\"Gender Inequality Index in 1990\", color = 'black')\n",
        "fig = plt.scatter(x,y)"
      ],
      "metadata": {
        "colab": {
          "base_uri": "https://localhost:8080/",
          "height": 315
        },
        "id": "iYZb5_AYqA-1",
        "outputId": "ad41cfe9-7d3e-44eb-ed88-9b6600c8dde1"
      },
      "execution_count": 9,
      "outputs": [
        {
          "output_type": "display_data",
          "data": {
            "text/plain": [
              "<Figure size 432x288 with 1 Axes>"
            ],
            "image/png": "[encoded data removed]"
          },
          "metadata": {
            "needs_background": "light"
          }
        }
      ]
    },
    {
      "cell_type": "code",
      "source": [
        "print(model.coef_)\n",
        "print(model.intercept_)"
      ],
      "metadata": {
        "colab": {
          "base_uri": "https://localhost:8080/"
        },
        "id": "laDhYekbqkhb",
        "outputId": "9c44af32-f510-4e00-9100-9584d003fed6"
      },
      "execution_count": 10,
      "outputs": [
        {
          "output_type": "stream",
          "name": "stdout",
          "text": [
            "[-0.01172157]\n",
            "0.5116491981007761\n"
          ]
        }
      ]
    },
    {
      "cell_type": "code",
      "source": [
        "print"
      ],
      "metadata": {
        "colab": {
          "base_uri": "https://localhost:8080/"
        },
        "id": "V_X2gOMGqp0u",
        "outputId": "2a2cbe83-fa8f-449e-f090-2facc118b1cc"
      },
      "execution_count": 11,
      "outputs": [
        {
          "output_type": "execute_result",
          "data": {
            "text/plain": [
              "<function print>"
            ]
          },
          "metadata": {},
          "execution_count": 11
        }
      ]
    }
  ]
}