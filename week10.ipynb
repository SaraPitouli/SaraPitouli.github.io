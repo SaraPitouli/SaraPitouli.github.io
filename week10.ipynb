{
  "nbformat": 4,
  "nbformat_minor": 0,
  "metadata": {
    "colab": {
      "provenance": [],
      "authorship_tag": "ABX9TyP2riTpEANLfo8zAWRhvi3R",
      "include_colab_link": true
    },
    "kernelspec": {
      "name": "python3",
      "display_name": "Python 3"
    },
    "language_info": {
      "name": "python"
    }
  },
  "cells": [
    {
      "cell_type": "markdown",
      "metadata": {
        "id": "view-in-github",
        "colab_type": "text"
      },
      "source": [
        "<a href=\"https://colab.research.google.com/github/SaraPitouli/SaraPitouli.github.io/blob/main/week10.ipynb\" target=\"_parent\"><img src=\"https://colab.research.google.com/assets/colab-badge.svg\" alt=\"Open In Colab\"/></a>"
      ]
    },
    {
      "cell_type": "code",
      "execution_count": 13,
      "metadata": {
        "id": "cfGin3vSgxv7"
      },
      "outputs": [],
      "source": [
        "\n",
        "import pandas as pd\n",
        "import numpy as np\n",
        "import matplotlib.pyplot as plt"
      ]
    },
    {
      "cell_type": "code",
      "source": [
        "df = pd.read_csv('ScatterPlot.csv')"
      ],
      "metadata": {
        "id": "iaepgr7rmHZO"
      },
      "execution_count": 14,
      "outputs": []
    },
    {
      "cell_type": "code",
      "source": [
        "from sklearn.linear_model import LinearRegression"
      ],
      "metadata": {
        "id": "P9OwUn7gmcwJ"
      },
      "execution_count": 15,
      "outputs": []
    },
    {
      "cell_type": "code",
      "source": [
        "print(df)"
      ],
      "metadata": {
        "colab": {
          "base_uri": "https://localhost:8080/"
        },
        "id": "ghIOfr68mgI5",
        "outputId": "1417c8c6-8a1c-4eab-cbf9-adc37e56ff3a"
      },
      "execution_count": 16,
      "outputs": [
        {
          "output_type": "stream",
          "name": "stdout",
          "text": [
            "    Unnamed: 0               Country  mean  1990\n",
            "0            1               Albania  1.04  0.30\n",
            "1            2  United Arab Emirates -0.16  0.68\n",
            "2            3             Argentina  2.64  0.52\n",
            "3            4               Armenia -2.21  0.36\n",
            "4            5             Australia  2.14  0.27\n",
            "..         ...                   ...   ...   ...\n",
            "90         123         United States  1.97  0.33\n",
            "91         124               Vietnam  5.54  0.43\n",
            "92         125          South Africa -0.43  0.61\n",
            "93         126                Zambia -1.19  0.67\n",
            "94         127              Zimbabwe  1.14  0.63\n",
            "\n",
            "[95 rows x 4 columns]\n"
          ]
        }
      ]
    },
    {
      "cell_type": "code",
      "source": [
        "x = df['mean'].values[:, np.newaxis]\n",
        "y = df['1990'].values"
      ],
      "metadata": {
        "id": "unnXqc8gn3Ji"
      },
      "execution_count": 17,
      "outputs": []
    },
    {
      "cell_type": "code",
      "source": [
        "model = LinearRegression()\n",
        "model.fit(x,y)\n"
      ],
      "metadata": {
        "colab": {
          "base_uri": "https://localhost:8080/"
        },
        "id": "9ahC_R6ppyta",
        "outputId": "f3f4ea18-64d3-476f-87a2-4a0b52fb9b0d"
      },
      "execution_count": 18,
      "outputs": [
        {
          "output_type": "execute_result",
          "data": {
            "text/plain": [
              "LinearRegression()"
            ]
          },
          "metadata": {},
          "execution_count": 18
        }
      ]
    },
    {
      "cell_type": "code",
      "source": [
        "model.score(x,y)"
      ],
      "metadata": {
        "colab": {
          "base_uri": "https://localhost:8080/"
        },
        "id": "7f-DUOCVp2dH",
        "outputId": "7187a464-43e0-48a6-9763-d66e6e885aea"
      },
      "execution_count": 19,
      "outputs": [
        {
          "output_type": "execute_result",
          "data": {
            "text/plain": [
              "0.017363756578543943"
            ]
          },
          "metadata": {},
          "execution_count": 19
        }
      ]
    },
    {
      "cell_type": "code",
      "source": [
        "predictions = model.predict(x)\n",
        "plt.plot(x, predictions, color = '#FF3399')\n",
        "plt.title(\"Correlation Between GDP per capita and Gender Inequality Index.\", color= 'black')\n",
        "plt.xlabel(\"Average growth rate of GDP per capita over the 1990s\", color= 'black')\n",
        "plt.ylabel(\"Gender Inequality Index in 1990\", color = 'black')\n",
        "fig = plt.scatter(x,y)"
      ],
      "metadata": {
        "colab": {
          "base_uri": "https://localhost:8080/",
          "height": 295
        },
        "id": "iYZb5_AYqA-1",
        "outputId": "d56b09bb-0972-4c2d-a5df-a228dba93c5c"
      },
      "execution_count": 22,
      "outputs": [
        {
          "output_type": "display_data",
          "data": {
            "text/plain": [
              "<Figure size 432x288 with 1 Axes>"
            ],
            "image/png": "[encoded data removed]"
          },
          "metadata": {
            "needs_background": "light"
          }
        }
      ]
    },
    {
      "cell_type": "code",
      "source": [
        "print(model.coef_)\n",
        "print(model.intercept_)"
      ],
      "metadata": {
        "colab": {
          "base_uri": "https://localhost:8080/"
        },
        "id": "laDhYekbqkhb",
        "outputId": "6e402065-4f0a-4f70-a49e-9f7638603cb5"
      },
      "execution_count": 23,
      "outputs": [
        {
          "output_type": "stream",
          "name": "stdout",
          "text": [
            "[-0.01172157]\n",
            "0.5116491981007761\n"
          ]
        }
      ]
    },
    {
      "cell_type": "code",
      "source": [
        "print"
      ],
      "metadata": {
        "colab": {
          "base_uri": "https://localhost:8080/"
        },
        "id": "V_X2gOMGqp0u",
        "outputId": "80045d58-8a66-49f7-fc8f-db12a18f12d6"
      },
      "execution_count": 24,
      "outputs": [
        {
          "output_type": "execute_result",
          "data": {
            "text/plain": [
              "<function print>"
            ]
          },
          "metadata": {},
          "execution_count": 24
        }
      ]
    }
  ]
}