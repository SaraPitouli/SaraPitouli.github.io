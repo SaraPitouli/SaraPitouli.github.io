{
  "nbformat": 4,
  "nbformat_minor": 0,
  "metadata": {
    "colab": {
      "provenance": [],
      "authorship_tag": "ABX9TyOVhl74k6CjZOlDW1fuGYtJ",
      "include_colab_link": true
    },
    "kernelspec": {
      "name": "python3",
      "display_name": "Python 3"
    },
    "language_info": {
      "name": "python"
    }
  },
  "cells": [
    {
      "cell_type": "markdown",
      "metadata": {
        "id": "view-in-github",
        "colab_type": "text"
      },
      "source": [
        "<a href=\"https://colab.research.google.com/github/SaraPitouli/SaraPitouli.github.io/blob/main/scatterplot.ipynb\" target=\"_parent\"><img src=\"https://colab.research.google.com/assets/colab-badge.svg\" alt=\"Open In Colab\"/></a>"
      ]
    },
    {
      "cell_type": "code",
      "execution_count": null,
      "metadata": {
        "id": "wfjBdD0-BQ67"
      },
      "outputs": [],
      "source": [
        "import pandas as pd\n",
        "import numpy as np\n"
      ]
    },
    {
      "cell_type": "code",
      "source": [
        "gdp = pd.read_csv(\"gdp.csv\") \n",
        "gdp=gdp[[\"Country\", \"1990\"]]"
      ],
      "metadata": {
        "id": "7ENF478DFNpJ"
      },
      "execution_count": null,
      "outputs": []
    },
    {
      "cell_type": "code",
      "source": [
        "index = pd.read_csv(\"index.csv\")\n",
        "index= index[[\"Country\", \"1990\"]].applymap(lambda x: np.nan if x ==\"no data\" else x)"
      ],
      "metadata": {
        "id": "OylgVPS3F2bf"
      },
      "execution_count": null,
      "outputs": []
    },
    {
      "cell_type": "code",
      "source": [
        "pd.merge(gdp,index,on='Country',how='inner',indicator=False).dropna().round(2).to_csv(\"ScatterPlot.csv\")"
      ],
      "metadata": {
        "id": "3zxus2sxGmJ8"
      },
      "execution_count": 21,
      "outputs": []
    },
    {
      "cell_type": "code",
      "source": [],
      "metadata": {
        "id": "OfMExq4YIXLE"
      },
      "execution_count": null,
      "outputs": []
    }
  ]
}