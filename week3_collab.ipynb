{
  "cells": [
    {
      "cell_type": "code",
      "execution_count": null,
      "metadata": {
        "id": "VoiIhyEGmwfQ"
      },
      "outputs": [],
      "source": [
        "import pandas as pd"
      ]
    },
    {
      "cell_type": "code",
      "execution_count": null,
      "metadata": {
        "id": "o-kynuk5myEA"
      },
      "outputs": [],
      "source": [
        "df= pd.read_csv('task3_data.csv')"
      ]
    },
    {
      "cell_type": "code",
      "execution_count": null,
      "metadata": {
        "id": "cU-WAho7nhJ6"
      },
      "outputs": [],
      "source": [
        "df.info()"
      ]
    },
    {
      "cell_type": "code",
      "execution_count": 28,
      "metadata": {
        "id": "TRzXDgq7n8dI"
      },
      "outputs": [],
      "source": [
        "# df.to_json('temp.json', orient='records')"
      ]
    },
    {
      "cell_type": "code",
      "execution_count": null,
      "metadata": {
        "colab": {
          "base_uri": "https://localhost:8080/"
        },
        "id": "ZAUxhmp1pO5f",
        "outputId": "60d69617-0078-423a-cad0-6d87b38b7094"
      },
      "outputs": [
        {
          "data": {
            "text/plain": [
              "Index(['Country Code', 'Country Name', 'level_2', 0], dtype='object')"
            ]
          },
          "execution_count": 39,
          "metadata": {},
          "output_type": "execute_result"
        }
      ],
      "source": [
        "exported_values= list(df.T.to_dict().values())"
      ]
    },
    {
      "cell_type": "code",
      "execution_count": 32,
      "metadata": {
        "id": "O24BU8-3pWcK"
      },
      "outputs": [],
      "source": [
        "exported_values\n"
      ]
    },
    {
      "cell_type": "code",
      "execution_count": null,
      "metadata": {
        "id": "D7H78KgypnTT"
      },
      "outputs": [],
      "source": [
        "import json"
      ]
    },
    {
      "cell_type": "code",
      "execution_count": 60,
      "metadata": {
        "id": "L2SIf-s2riro"
      },
      "outputs": [],
      "source": [
        "open('my_first_json_file.json','w').write(json.dumps(exported_values))"
      ]
    },
    {
      "cell_type": "code",
      "execution_count": 75,
      "metadata": {
        "id": "ojYTbJhdtmXN"
      },
      "outputs": [],
      "source": [
        "df2= pd.read_csv('task3_data2.csv')"
      ]
    },
    {
      "cell_type": "code",
      "execution_count": 77,
      "metadata": {
        "colab": {
          "base_uri": "https://localhost:8080/"
        },
        "id": "tjR-tjCMtwKe",
        "outputId": "6182933d-be77-400c-cf86-67f400b53738"
      },
      "outputs": [
        {
          "data": {
            "text/plain": [
              "(1, 6)"
            ]
          },
          "execution_count": 77,
          "metadata": {},
          "output_type": "execute_result"
        }
      ],
      "source": [
        "#df2=df2.drop('Year',axis=1)"
      ]
    },
    {
      "cell_type": "code",
      "execution_count": 88,
      "metadata": {
        "id": "gEMm44uCwqvQ"
      },
      "outputs": [],
      "source": [
        "exported_values2= list(df2.T.to_dict().values())"
      ]
    },
    {
      "cell_type": "code",
      "execution_count": 115,
      "metadata": {
        "colab": {
          "base_uri": "https://localhost:8080/",
          "height": 35
        },
        "id": "f4yoCdB7wtjx",
        "outputId": "e341e53b-d00d-4f24-c2fb-eac022560696"
      },
      "outputs": [
        {
          "data": {
            "application/vnd.google.colaboratory.intrinsic+json": {
              "type": "string"
            },
            "text/plain": [
              "'1'"
            ]
          },
          "execution_count": 115,
          "metadata": {},
          "output_type": "execute_result"
        }
      ],
      "source": [
        "for i in exported_values2: \n",
        "  i['Year']=int(i['Year'])"
      ]
    },
    {
      "cell_type": "code",
      "execution_count": 104,
      "metadata": {
        "id": "yZrtgB65xaOP"
      },
      "outputs": [],
      "source": [
        "exported_values2"
      ]
    },
    {
      "cell_type": "code",
      "execution_count": 107,
      "metadata": {
        "id": "Y4O8DyWBvalY"
      },
      "outputs": [],
      "source": [
        "open('my_first_json_file2.json','w').write(json.dumps(exported_values2))"
      ]
    }
  ],
  "metadata": {
    "colab": {
      "collapsed_sections": [],
      "provenance": []
    },
    "kernelspec": {
      "display_name": "Python 3",
      "name": "python3"
    },
    "language_info": {
      "name": "python"
    }
  },
  "nbformat": 4,
  "nbformat_minor": 0
}
